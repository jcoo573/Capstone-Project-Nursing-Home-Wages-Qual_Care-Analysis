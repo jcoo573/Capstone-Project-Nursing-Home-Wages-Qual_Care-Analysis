{
 "cells": [
  {
   "cell_type": "code",
   "execution_count": 41,
   "metadata": {},
   "outputs": [],
   "source": [
    "import pandas as pd\n",
    "import os\n",
    "\n",
    "# Load CMS data (example: NH_ProviderInfo.csv)\n",
    "cms_provider_info = pd.read_csv('../data/NH_ProviderInfo_Nov2024.csv')\n",
    "\n",
    "# Load cost of living data\n",
    "col_data = pd.read_csv('../data/cost_of_living_data.csv')\n",
    "\n",
    "# Load minimum wage data\n",
    "min_wage_data = pd.read_csv('../data/min_wage.csv')\n",
    "\n",
    "# Load BLS earnings data\n",
    "bls_data = pd.read_csv('../data/bls_earnings_2023.csv')"
   ]
  },
  {
   "cell_type": "code",
   "execution_count": 42,
   "metadata": {},
   "outputs": [
    {
     "name": "stdout",
     "output_type": "stream",
     "text": [
      "  CMS Certification Number (CCN)                                Provider Name  \\\n",
      "0                         015009                     BURNS NURSING HOME, INC.   \n",
      "1                         015010               COOSA VALLEY HEALTHCARE CENTER   \n",
      "2                         015012                   HIGHLANDS HEALTH AND REHAB   \n",
      "3                         015014  EASTVIEW REHABILITATION & HEALTHCARE CENTER   \n",
      "4                         015015                PLANTATION MANOR NURSING HOME   \n",
      "\n",
      "              Provider Address     City/Town State  ZIP Code  \\\n",
      "0         701 MONROE STREET NW  RUSSELLVILLE    AL     35653   \n",
      "1       260 WEST WALNUT STREET     SYLACAUGA    AL     35150   \n",
      "2          380 WOODS COVE ROAD    SCOTTSBORO    AL     35768   \n",
      "3     7755 FOURTH AVENUE SOUTH    BIRMINGHAM    AL     35206   \n",
      "4  6450 OLD TUSCALOOSA HIGHWAY      MC CALLA    AL     35111   \n",
      "\n",
      "   Telephone Number  Provider SSA County Code County/Parish  \\\n",
      "0        2563324110                       290      Franklin   \n",
      "1        2562495604                       600     Talladega   \n",
      "2        2562183708                       350       Jackson   \n",
      "3        2058330146                       360     Jefferson   \n",
      "4        2054776161                       360     Jefferson   \n",
      "\n",
      "             Ownership Type  ...  \\\n",
      "0  For profit - Corporation  ...   \n",
      "1  For profit - Corporation  ...   \n",
      "2       Government - County  ...   \n",
      "3   For profit - Individual  ...   \n",
      "4   For profit - Individual  ...   \n",
      "\n",
      "   Number of Citations from Infection Control Inspections  Number of Fines  \\\n",
      "0                                                NaN                     1   \n",
      "1                                                0.0                     0   \n",
      "2                                                NaN                     0   \n",
      "3                                                0.0                     0   \n",
      "4                                                NaN                     0   \n",
      "\n",
      "   Total Amount of Fines in Dollars Number of Payment Denials  \\\n",
      "0                           23989.0                         0   \n",
      "1                               0.0                         0   \n",
      "2                               0.0                         0   \n",
      "3                               0.0                         0   \n",
      "4                               0.0                         0   \n",
      "\n",
      "  Total Number of Penalties                                       Location  \\\n",
      "0                         1     701 MONROE STREET NW,RUSSELLVILLE,AL,35653   \n",
      "1                         0      260 WEST WALNUT STREET,SYLACAUGA,AL,35150   \n",
      "2                         0        380 WOODS COVE ROAD,SCOTTSBORO,AL,35768   \n",
      "3                         0   7755 FOURTH AVENUE SOUTH,BIRMINGHAM,AL,35206   \n",
      "4                         0  6450 OLD TUSCALOOSA HIGHWAY,MC CALLA,AL,35111   \n",
      "\n",
      "  Latitude Longitude  Geocoding Footnote Processing Date  \n",
      "0  34.5149   -87.736                 NaN      2024-11-01  \n",
      "1  33.1637   -86.254                 NaN      2024-11-01  \n",
      "2  34.6611   -86.047                 NaN      2024-11-01  \n",
      "3  33.5595   -86.722                 NaN      2024-11-01  \n",
      "4  33.3221   -87.034                 NaN      2024-11-01  \n",
      "\n",
      "[5 rows x 103 columns]\n",
      "<class 'pandas.core.frame.DataFrame'>\n",
      "RangeIndex: 14807 entries, 0 to 14806\n",
      "Columns: 103 entries, CMS Certification Number (CCN) to Processing Date\n",
      "dtypes: float64(70), int64(9), object(24)\n",
      "memory usage: 11.6+ MB\n",
      "None\n"
     ]
    }
   ],
   "source": [
    "#Look at CMS Data: \n",
    "print(cms_provider_info.head())\n",
    "print(cms_provider_info.info())"
   ]
  },
  {
   "cell_type": "code",
   "execution_count": 43,
   "metadata": {},
   "outputs": [
    {
     "data": {
      "text/plain": [
       "array(['AL', 'AK', 'AZ', 'AR', 'CA', 'CO', 'CT', 'DE', 'DC', 'FL', 'GA',\n",
       "       'HI', 'ID', 'IL', 'IN', 'IA', 'KS', 'KY', 'LA', 'ME', 'MD', 'MA',\n",
       "       'MI', 'MN', 'MS', 'MO', 'MT', 'NE', 'NV', 'NH', 'NJ', 'NM', 'NY',\n",
       "       'NC', 'ND', 'OH', 'OK', 'OR', 'PA', 'PR', 'RI', 'SC', 'SD', 'TN',\n",
       "       'TX', 'UT', 'VT', 'VA', 'WA', 'WV', 'WI', 'WY', 'GU'], dtype=object)"
      ]
     },
     "execution_count": 43,
     "metadata": {},
     "output_type": "execute_result"
    }
   ],
   "source": [
    "cms_provider_info['State'].unique()"
   ]
  },
  {
   "cell_type": "code",
   "execution_count": 44,
   "metadata": {},
   "outputs": [],
   "source": [
    "#Drop unnecessary columns\n",
    "cms_provider_info = cms_provider_info[['State', 'Provider Name', 'Overall Rating', 'Staffing Rating', 'QM Rating', 'Latitude', 'Longitude']]"
   ]
  },
  {
   "cell_type": "code",
   "execution_count": 45,
   "metadata": {},
   "outputs": [
    {
     "name": "stdout",
     "output_type": "stream",
     "text": [
      "  State                                Provider Name  Overall Rating  \\\n",
      "0    AL                     BURNS NURSING HOME, INC.             2.0   \n",
      "1    AL               COOSA VALLEY HEALTHCARE CENTER             4.0   \n",
      "2    AL                   HIGHLANDS HEALTH AND REHAB             4.0   \n",
      "3    AL  EASTVIEW REHABILITATION & HEALTHCARE CENTER             2.0   \n",
      "4    AL                PLANTATION MANOR NURSING HOME             2.0   \n",
      "\n",
      "   Staffing Rating  QM Rating  Latitude  Longitude  \n",
      "0              4.0        4.0   34.5149    -87.736  \n",
      "1              3.0        3.0   33.1637    -86.254  \n",
      "2              3.0        2.0   34.6611    -86.047  \n",
      "3              1.0        2.0   33.5595    -86.722  \n",
      "4              4.0        2.0   33.3221    -87.034  \n",
      "(14807, 7)\n"
     ]
    }
   ],
   "source": [
    "print(cms_provider_info.head())\n",
    "print(cms_provider_info.shape)"
   ]
  },
  {
   "cell_type": "code",
   "execution_count": 46,
   "metadata": {},
   "outputs": [
    {
     "data": {
      "text/plain": [
       "array(['West Virginia\\xa0', 'Kansas\\xa0', 'Mississippi\\xa0',\n",
       "       'Oklahoma\\xa0', 'Alabama\\xa0', 'Missouri\\xa0', 'Arkansas\\xa0',\n",
       "       'Tennessee\\xa0', 'Iowa\\xa0', 'Indiana\\xa0', 'Georgia\\xa0',\n",
       "       'North Dakota\\xa0', 'Michigan\\xa0', 'South Dakota\\xa0',\n",
       "       'Texas\\xa0', 'Nebraska\\xa0', 'Kentucky\\xa0', 'New Mexico\\xa0',\n",
       "       'Louisiana\\xa0', 'Montana\\xa0', 'Ohio\\xa0', 'Pennsylvania\\xa0',\n",
       "       'South Carolina\\xa0', 'Minnesota\\xa0', 'Wyoming\\xa0',\n",
       "       'Illinois\\xa0', 'North Carolina\\xa0', 'Maryland\\xa0',\n",
       "       'Wisconsin\\xa0', 'Nevada\\xa0', 'Delaware\\xa0', 'Virginia\\xa0',\n",
       "       'Idaho\\xa0', 'Florida\\xa0', 'Puerto Rico\\xa0', 'Colorado\\xa0',\n",
       "       'Utah\\xa0', 'Oregon\\xa0', 'New Hampshire\\xa0', 'Connecticut\\xa0',\n",
       "       'Rhode Island\\xa0', 'Arizona\\xa0', 'Maine\\xa0', 'Washington\\xa0',\n",
       "       'Vermont\\xa0', 'New Jersey\\xa0', 'New York\\xa0', 'Alaska\\xa0',\n",
       "       'District of Columbia\\xa0', 'California\\xa0', 'Massachusetts\\xa0',\n",
       "       'Hawaii\\xa0', 'U.S.'], dtype=object)"
      ]
     },
     "execution_count": 46,
     "metadata": {},
     "output_type": "execute_result"
    }
   ],
   "source": [
    "#col_data.head()\n",
    "col_data['State'].unique()"
   ]
  },
  {
   "cell_type": "code",
   "execution_count": 47,
   "metadata": {},
   "outputs": [
    {
     "data": {
      "text/plain": [
       "array(['West Virginia', 'Kansas', 'Mississippi', 'Oklahoma', 'Alabama',\n",
       "       'Missouri', 'Arkansas', 'Tennessee', 'Iowa', 'Indiana', 'Georgia',\n",
       "       'North Dakota', 'Michigan', 'South Dakota', 'Texas', 'Nebraska',\n",
       "       'Kentucky', 'New Mexico', 'Louisiana', 'Montana', 'Ohio',\n",
       "       'Pennsylvania', 'South Carolina', 'Minnesota', 'Wyoming',\n",
       "       'Illinois', 'North Carolina', 'Maryland', 'Wisconsin', 'Nevada',\n",
       "       'Delaware', 'Virginia', 'Idaho', 'Florida', 'Puerto Rico',\n",
       "       'Colorado', 'Utah', 'Oregon', 'New Hampshire', 'Connecticut',\n",
       "       'Rhode Island', 'Arizona', 'Maine', 'Washington', 'Vermont',\n",
       "       'New Jersey', 'New York', 'Alaska', 'District of Columbia',\n",
       "       'California', 'Massachusetts', 'Hawaii', 'U.S.'], dtype=object)"
      ]
     },
     "execution_count": 47,
     "metadata": {},
     "output_type": "execute_result"
    }
   ],
   "source": [
    "#Remove trailing spaces\n",
    "col_data['State'] = col_data['State'].str.strip()\n",
    "col_data['State'].unique()"
   ]
  },
  {
   "cell_type": "code",
   "execution_count": 48,
   "metadata": {},
   "outputs": [],
   "source": [
    "#remove us total row from data\n",
    "col_data = col_data[~col_data['State'].isin(['U.S.'])]"
   ]
  },
  {
   "cell_type": "code",
   "execution_count": 49,
   "metadata": {},
   "outputs": [
    {
     "data": {
      "text/plain": [
       "array(['West Virginia', 'Kansas', 'Mississippi', 'Oklahoma', 'Alabama',\n",
       "       'Missouri', 'Arkansas', 'Tennessee', 'Iowa', 'Indiana', 'Georgia',\n",
       "       'North Dakota', 'Michigan', 'South Dakota', 'Texas', 'Nebraska',\n",
       "       'Kentucky', 'New Mexico', 'Louisiana', 'Montana', 'Ohio',\n",
       "       'Pennsylvania', 'South Carolina', 'Minnesota', 'Wyoming',\n",
       "       'Illinois', 'North Carolina', 'Maryland', 'Wisconsin', 'Nevada',\n",
       "       'Delaware', 'Virginia', 'Idaho', 'Florida', 'Puerto Rico',\n",
       "       'Colorado', 'Utah', 'Oregon', 'New Hampshire', 'Connecticut',\n",
       "       'Rhode Island', 'Arizona', 'Maine', 'Washington', 'Vermont',\n",
       "       'New Jersey', 'New York', 'Alaska', 'District of Columbia',\n",
       "       'California', 'Massachusetts', 'Hawaii'], dtype=object)"
      ]
     },
     "execution_count": 49,
     "metadata": {},
     "output_type": "execute_result"
    }
   ],
   "source": [
    "#check unique states in cost of living data again\n",
    "col_data['State'].unique()"
   ]
  },
  {
   "cell_type": "code",
   "execution_count": 50,
   "metadata": {},
   "outputs": [
    {
     "name": "stdout",
     "output_type": "stream",
     "text": [
      "        State Minimum Wage  Increases Planned\n",
      "0     Alabama       $7.25                   0\n",
      "1      Alaska      $11.91                   0\n",
      "2     Arizona      $14.70                   0\n",
      "3    Arkansas      $11.00                   0\n",
      "4  California      $16.50                   0\n",
      "<class 'pandas.core.frame.DataFrame'>\n",
      "RangeIndex: 55 entries, 0 to 54\n",
      "Data columns (total 3 columns):\n",
      " #   Column             Non-Null Count  Dtype \n",
      "---  ------             --------------  ----- \n",
      " 0   State              55 non-null     object\n",
      " 1   Minimum Wage       55 non-null     object\n",
      " 2   Increases Planned  55 non-null     int64 \n",
      "dtypes: int64(1), object(2)\n",
      "memory usage: 1.4+ KB\n",
      "None\n"
     ]
    }
   ],
   "source": [
    "#Minimum Wage Data\n",
    "print(min_wage_data.head())\n",
    "print(min_wage_data.info())"
   ]
  },
  {
   "cell_type": "code",
   "execution_count": 51,
   "metadata": {},
   "outputs": [
    {
     "name": "stdout",
     "output_type": "stream",
     "text": [
      "        State  Minimum Wage  Increases Planned\n",
      "0     Alabama          7.25                  0\n",
      "1      Alaska         11.91                  0\n",
      "2     Arizona         14.70                  0\n",
      "3    Arkansas         11.00                  0\n",
      "4  California         16.50                  0\n",
      "float64\n"
     ]
    }
   ],
   "source": [
    "# Remove $ symbol and convert to numeric\n",
    "min_wage_data['Minimum Wage'] = min_wage_data['Minimum Wage'].str.replace('$', '', regex=False)\n",
    "min_wage_data['Minimum Wage'] = pd.to_numeric(min_wage_data['Minimum Wage'])\n",
    "\n",
    "# Verify the changes\n",
    "print(min_wage_data.head())\n",
    "print(min_wage_data['Minimum Wage'].dtype)"
   ]
  },
  {
   "cell_type": "code",
   "execution_count": 52,
   "metadata": {},
   "outputs": [
    {
     "data": {
      "text/plain": [
       "array(['Alabama', 'Alaska', 'Arizona', 'Arkansas', 'California',\n",
       "       'Colorado', 'Connecticut', 'Delaware', 'District of Columbia',\n",
       "       'Florida', 'Georgia', 'Guam', 'Hawaii', 'Idaho', 'Illinois',\n",
       "       'Indiana', 'Iowa', 'Kansas', 'Kentucky', 'Louisiana', 'Maine',\n",
       "       'Maryland', 'Massachusetts', 'Michigan', 'Minnesota',\n",
       "       'Mississippi', 'Missouri', 'Montana', 'Nebraska', 'Nevada',\n",
       "       'New Hampshire', 'New Jersey', 'New Mexico', 'New York',\n",
       "       'North Carolina', 'North Dakota', 'Northern Mariana Islands',\n",
       "       'Ohio', 'Oklahoma', 'Oregon', 'Pennsylvania', 'Puerto Rico',\n",
       "       'Rhode Island', 'South Carolina', 'South Dakota', 'Tennessee',\n",
       "       'Texas', 'Utah', 'Vermont', 'Virgin Islands', 'Virginia',\n",
       "       'Washington', 'West Virginia', 'Wisconsin', 'Wyoming'],\n",
       "      dtype=object)"
      ]
     },
     "execution_count": 52,
     "metadata": {},
     "output_type": "execute_result"
    }
   ],
   "source": [
    "min_wage_data['State'].unique()"
   ]
  },
  {
   "cell_type": "code",
   "execution_count": 53,
   "metadata": {},
   "outputs": [
    {
     "name": "stdout",
     "output_type": "stream",
     "text": [
      "   AREA AREA_TITLE  AREA_TYPE PRIM_STATE  NAICS     NAICS_TITLE  \\\n",
      "0     1    Alabama          2         AL      0  Cross-industry   \n",
      "1     1    Alabama          2         AL      0  Cross-industry   \n",
      "2     1    Alabama          2         AL      0  Cross-industry   \n",
      "3     1    Alabama          2         AL      0  Cross-industry   \n",
      "4     1    Alabama          2         AL      0  Cross-industry   \n",
      "\n",
      "          I_GROUP  OWN_CODE OCC_CODE                        OCC_TITLE  ...  \\\n",
      "0  cross-industry      1235  00-0000                  All Occupations  ...   \n",
      "1  cross-industry      1235  11-0000           Management Occupations  ...   \n",
      "2  cross-industry      1235  11-1011                 Chief Executives  ...   \n",
      "3  cross-industry      1235  11-1021  General and Operations Managers  ...   \n",
      "4  cross-industry      1235  11-1031                      Legislators  ...   \n",
      "\n",
      "  H_MEDIAN H_PCT75 H_PCT90 A_PCT10  A_PCT25  A_MEDIAN  A_PCT75  A_PCT90  \\\n",
      "0    19.88   30.09   46.18  22,620   29,580    41,350   62,580   96,050   \n",
      "1    47.95   67.22   95.44  50,710   73,180    99,740  139,810  198,520   \n",
      "2    79.48  102.01       #  65,700  123,960   165,320  212,180        #   \n",
      "3    49.67   78.25  112.54  48,080   72,260   103,320  162,760  234,080   \n",
      "4        *       *       *  18,320   19,670    24,470   45,050   55,070   \n",
      "\n",
      "  ANNUAL HOURLY  \n",
      "0    NaN    NaN  \n",
      "1    NaN    NaN  \n",
      "2    NaN    NaN  \n",
      "3    NaN    NaN  \n",
      "4   True    NaN  \n",
      "\n",
      "[5 rows x 32 columns]\n",
      "<class 'pandas.core.frame.DataFrame'>\n",
      "RangeIndex: 37676 entries, 0 to 37675\n",
      "Data columns (total 32 columns):\n",
      " #   Column        Non-Null Count  Dtype  \n",
      "---  ------        --------------  -----  \n",
      " 0   AREA          37676 non-null  int64  \n",
      " 1   AREA_TITLE    37676 non-null  object \n",
      " 2   AREA_TYPE     37676 non-null  int64  \n",
      " 3   PRIM_STATE    37676 non-null  object \n",
      " 4   NAICS         37676 non-null  int64  \n",
      " 5   NAICS_TITLE   37676 non-null  object \n",
      " 6   I_GROUP       37676 non-null  object \n",
      " 7   OWN_CODE      37676 non-null  int64  \n",
      " 8   OCC_CODE      37676 non-null  object \n",
      " 9   OCC_TITLE     37676 non-null  object \n",
      " 10  O_GROUP       37676 non-null  object \n",
      " 11  TOT_EMP       37676 non-null  object \n",
      " 12  EMP_PRSE      37676 non-null  object \n",
      " 13  JOBS_1000     37676 non-null  object \n",
      " 14  LOC_QUOTIENT  37676 non-null  object \n",
      " 15  PCT_TOTAL     0 non-null      float64\n",
      " 16  PCT_RPT       0 non-null      float64\n",
      " 17  H_MEAN        37676 non-null  object \n",
      " 18  A_MEAN        37676 non-null  object \n",
      " 19  MEAN_PRSE     37676 non-null  object \n",
      " 20  H_PCT10       37676 non-null  object \n",
      " 21  H_PCT25       37676 non-null  object \n",
      " 22  H_MEDIAN      37676 non-null  object \n",
      " 23  H_PCT75       37676 non-null  object \n",
      " 24  H_PCT90       37676 non-null  object \n",
      " 25  A_PCT10       37676 non-null  object \n",
      " 26  A_PCT25       37676 non-null  object \n",
      " 27  A_MEDIAN      37676 non-null  object \n",
      " 28  A_PCT75       37676 non-null  object \n",
      " 29  A_PCT90       37676 non-null  object \n",
      " 30  ANNUAL        2642 non-null   object \n",
      " 31  HOURLY        159 non-null    object \n",
      "dtypes: float64(2), int64(4), object(26)\n",
      "memory usage: 9.2+ MB\n",
      "None\n"
     ]
    },
    {
     "data": {
      "text/plain": [
       "Index(['AREA', 'AREA_TITLE', 'AREA_TYPE', 'PRIM_STATE', 'NAICS', 'NAICS_TITLE',\n",
       "       'I_GROUP', 'OWN_CODE', 'OCC_CODE', 'OCC_TITLE', 'O_GROUP', 'TOT_EMP',\n",
       "       'EMP_PRSE', 'JOBS_1000', 'LOC_QUOTIENT', 'PCT_TOTAL', 'PCT_RPT',\n",
       "       'H_MEAN', 'A_MEAN', 'MEAN_PRSE', 'H_PCT10', 'H_PCT25', 'H_MEDIAN',\n",
       "       'H_PCT75', 'H_PCT90', 'A_PCT10', 'A_PCT25', 'A_MEDIAN', 'A_PCT75',\n",
       "       'A_PCT90', 'ANNUAL', 'HOURLY'],\n",
       "      dtype='object')"
      ]
     },
     "execution_count": 53,
     "metadata": {},
     "output_type": "execute_result"
    }
   ],
   "source": [
    "#BLS Data\n",
    "print(bls_data.head())\n",
    "print(bls_data.info())\n",
    "bls_data.columns\n"
   ]
  },
  {
   "cell_type": "code",
   "execution_count": 54,
   "metadata": {},
   "outputs": [
    {
     "data": {
      "text/html": [
       "<div>\n",
       "<style scoped>\n",
       "    .dataframe tbody tr th:only-of-type {\n",
       "        vertical-align: middle;\n",
       "    }\n",
       "\n",
       "    .dataframe tbody tr th {\n",
       "        vertical-align: top;\n",
       "    }\n",
       "\n",
       "    .dataframe thead th {\n",
       "        text-align: right;\n",
       "    }\n",
       "</style>\n",
       "<table border=\"1\" class=\"dataframe\">\n",
       "  <thead>\n",
       "    <tr style=\"text-align: right;\">\n",
       "      <th></th>\n",
       "      <th>OCC_CODE</th>\n",
       "      <th>OCC_TITLE</th>\n",
       "    </tr>\n",
       "  </thead>\n",
       "  <tbody>\n",
       "    <tr>\n",
       "      <th>0</th>\n",
       "      <td>00-0000</td>\n",
       "      <td>All Occupations</td>\n",
       "    </tr>\n",
       "    <tr>\n",
       "      <th>1</th>\n",
       "      <td>11-0000</td>\n",
       "      <td>Management Occupations</td>\n",
       "    </tr>\n",
       "    <tr>\n",
       "      <th>2</th>\n",
       "      <td>11-1011</td>\n",
       "      <td>Chief Executives</td>\n",
       "    </tr>\n",
       "    <tr>\n",
       "      <th>3</th>\n",
       "      <td>11-1021</td>\n",
       "      <td>General and Operations Managers</td>\n",
       "    </tr>\n",
       "    <tr>\n",
       "      <th>4</th>\n",
       "      <td>11-1031</td>\n",
       "      <td>Legislators</td>\n",
       "    </tr>\n",
       "    <tr>\n",
       "      <th>...</th>\n",
       "      <td>...</td>\n",
       "      <td>...</td>\n",
       "    </tr>\n",
       "    <tr>\n",
       "      <th>4201</th>\n",
       "      <td>47-5043</td>\n",
       "      <td>Roof Bolters, Mining</td>\n",
       "    </tr>\n",
       "    <tr>\n",
       "      <th>6570</th>\n",
       "      <td>33-3052</td>\n",
       "      <td>Transit and Railroad Police</td>\n",
       "    </tr>\n",
       "    <tr>\n",
       "      <th>11264</th>\n",
       "      <td>51-7031</td>\n",
       "      <td>Model Makers, Wood</td>\n",
       "    </tr>\n",
       "    <tr>\n",
       "      <th>16384</th>\n",
       "      <td>51-2061</td>\n",
       "      <td>Timing Device Assemblers and Adjusters</td>\n",
       "    </tr>\n",
       "    <tr>\n",
       "      <th>16437</th>\n",
       "      <td>51-7032</td>\n",
       "      <td>Patternmakers, Wood</td>\n",
       "    </tr>\n",
       "  </tbody>\n",
       "</table>\n",
       "<p>853 rows × 2 columns</p>\n",
       "</div>"
      ],
      "text/plain": [
       "      OCC_CODE                               OCC_TITLE\n",
       "0      00-0000                         All Occupations\n",
       "1      11-0000                  Management Occupations\n",
       "2      11-1011                        Chief Executives\n",
       "3      11-1021         General and Operations Managers\n",
       "4      11-1031                             Legislators\n",
       "...        ...                                     ...\n",
       "4201   47-5043                    Roof Bolters, Mining\n",
       "6570   33-3052             Transit and Railroad Police\n",
       "11264  51-7031                      Model Makers, Wood\n",
       "16384  51-2061  Timing Device Assemblers and Adjusters\n",
       "16437  51-7032                     Patternmakers, Wood\n",
       "\n",
       "[853 rows x 2 columns]"
      ]
     },
     "execution_count": 54,
     "metadata": {},
     "output_type": "execute_result"
    }
   ],
   "source": [
    "#Identify relevant occ_codes for analysis for Home Health Aides, Orderlies, and Nursing Assistancts\n",
    "bls_data[['OCC_CODE', 'OCC_TITLE']].drop_duplicates()"
   ]
  },
  {
   "cell_type": "code",
   "execution_count": 55,
   "metadata": {},
   "outputs": [
    {
     "name": "stdout",
     "output_type": "stream",
     "text": [
      "      AREA AREA_TITLE  AREA_TYPE PRIM_STATE  NAICS     NAICS_TITLE  \\\n",
      "335      1    Alabama          2         AL      0  Cross-industry   \n",
      "336      1    Alabama          2         AL      0  Cross-industry   \n",
      "337      1    Alabama          2         AL      0  Cross-industry   \n",
      "1022     2     Alaska          2         AK      0  Cross-industry   \n",
      "1023     2     Alaska          2         AK      0  Cross-industry   \n",
      "\n",
      "             I_GROUP  OWN_CODE OCC_CODE                            OCC_TITLE  \\\n",
      "335   cross-industry      1235  31-1120  Home Health and Personal Care Aides   \n",
      "336   cross-industry      1235  31-1131                   Nursing Assistants   \n",
      "337   cross-industry      1235  31-1132                            Orderlies   \n",
      "1022  cross-industry      1235  31-1120  Home Health and Personal Care Aides   \n",
      "1023  cross-industry      1235  31-1131                   Nursing Assistants   \n",
      "\n",
      "      ... H_MEDIAN H_PCT75 H_PCT90 A_PCT10 A_PCT25  A_MEDIAN  A_PCT75 A_PCT90  \\\n",
      "335   ...    11.45   13.65   14.69  18,230  21,390    23,810   28,390  30,550   \n",
      "336   ...    14.69   16.69   18.02  23,910  28,030    30,540   34,720  37,470   \n",
      "337   ...    14.38   15.21   18.78  23,790  28,360    29,900   31,630  39,060   \n",
      "1022  ...    17.81   20.49   22.22  29,210  34,740    37,050   42,610  46,220   \n",
      "1023  ...    21.87   24.26   28.02  40,060  40,190    45,480   50,470  58,270   \n",
      "\n",
      "     ANNUAL HOURLY  \n",
      "335     NaN    NaN  \n",
      "336     NaN    NaN  \n",
      "337     NaN    NaN  \n",
      "1022    NaN    NaN  \n",
      "1023    NaN    NaN  \n",
      "\n",
      "[5 rows x 32 columns]\n"
     ]
    }
   ],
   "source": [
    "# List of relevant occupation codes\n",
    "relevant_occ_codes = ['31-1120', '31-1131', '31-1132']  \n",
    "\n",
    "# Filter the BLS data\n",
    "bls_data = bls_data[bls_data['OCC_CODE'].isin(relevant_occ_codes)]\n",
    "\n",
    "# Verify the result\n",
    "print(bls_data.head())"
   ]
  },
  {
   "cell_type": "code",
   "execution_count": 56,
   "metadata": {},
   "outputs": [
    {
     "data": {
      "text/plain": [
       "AREA              int64\n",
       "AREA_TITLE       object\n",
       "AREA_TYPE         int64\n",
       "PRIM_STATE       object\n",
       "NAICS             int64\n",
       "NAICS_TITLE      object\n",
       "I_GROUP          object\n",
       "OWN_CODE          int64\n",
       "OCC_CODE         object\n",
       "OCC_TITLE        object\n",
       "O_GROUP          object\n",
       "TOT_EMP          object\n",
       "EMP_PRSE         object\n",
       "JOBS_1000        object\n",
       "LOC_QUOTIENT     object\n",
       "PCT_TOTAL       float64\n",
       "PCT_RPT         float64\n",
       "H_MEAN           object\n",
       "A_MEAN           object\n",
       "MEAN_PRSE        object\n",
       "H_PCT10          object\n",
       "H_PCT25          object\n",
       "H_MEDIAN         object\n",
       "H_PCT75          object\n",
       "H_PCT90          object\n",
       "A_PCT10          object\n",
       "A_PCT25          object\n",
       "A_MEDIAN         object\n",
       "A_PCT75          object\n",
       "A_PCT90          object\n",
       "ANNUAL           object\n",
       "HOURLY           object\n",
       "dtype: object"
      ]
     },
     "execution_count": 56,
     "metadata": {},
     "output_type": "execute_result"
    }
   ],
   "source": [
    "#Check data types\n",
    "bls_data.dtypes"
   ]
  },
  {
   "cell_type": "code",
   "execution_count": 57,
   "metadata": {},
   "outputs": [
    {
     "name": "stdout",
     "output_type": "stream",
     "text": [
      "      TOT_EMP\n",
      "335     19910\n",
      "336     22430\n",
      "337       500\n",
      "1022     5660\n",
      "1023     1710\n",
      "AREA              int64\n",
      "AREA_TITLE       object\n",
      "AREA_TYPE         int64\n",
      "PRIM_STATE       object\n",
      "NAICS             int64\n",
      "NAICS_TITLE      object\n",
      "I_GROUP          object\n",
      "OWN_CODE          int64\n",
      "OCC_CODE         object\n",
      "OCC_TITLE        object\n",
      "O_GROUP          object\n",
      "TOT_EMP           int64\n",
      "EMP_PRSE         object\n",
      "JOBS_1000        object\n",
      "LOC_QUOTIENT     object\n",
      "PCT_TOTAL       float64\n",
      "PCT_RPT         float64\n",
      "H_MEAN           object\n",
      "A_MEAN           object\n",
      "MEAN_PRSE        object\n",
      "H_PCT10          object\n",
      "H_PCT25          object\n",
      "H_MEDIAN        float64\n",
      "H_PCT75          object\n",
      "H_PCT90          object\n",
      "A_PCT10          object\n",
      "A_PCT25          object\n",
      "A_MEDIAN         object\n",
      "A_PCT75          object\n",
      "A_PCT90          object\n",
      "ANNUAL           object\n",
      "HOURLY           object\n",
      "dtype: object\n"
     ]
    }
   ],
   "source": [
    "# Convert tot_emp and hourly_median_wage to numeric\n",
    "bls_data['TOT_EMP'] = bls_data['TOT_EMP'].str.replace(',', '', regex=False)\n",
    "bls_data['TOT_EMP'] = pd.to_numeric(bls_data['TOT_EMP'], errors='coerce')\n",
    "bls_data['H_MEDIAN'] = pd.to_numeric(bls_data['H_MEDIAN'], errors='coerce')\n",
    "\n",
    "# Verify the conversion\n",
    "print(bls_data[['TOT_EMP']].head())\n",
    "print(bls_data.dtypes)"
   ]
  },
  {
   "cell_type": "code",
   "execution_count": 58,
   "metadata": {},
   "outputs": [
    {
     "data": {
      "text/plain": [
       "array(['AL', 'AK', 'AZ', 'AR', 'CA', 'CO', 'CT', 'DE', 'DC', 'FL', 'GA',\n",
       "       'HI', 'ID', 'IL', 'IN', 'IA', 'KS', 'KY', 'LA', 'ME', 'MD', 'MA',\n",
       "       'MI', 'MN', 'MS', 'MO', 'MT', 'NE', 'NV', 'NH', 'NJ', 'NM', 'NY',\n",
       "       'NC', 'ND', 'OH', 'OK', 'OR', 'PA', 'RI', 'SC', 'SD', 'TN', 'TX',\n",
       "       'UT', 'VT', 'VA', 'WA', 'WV', 'WI', 'WY', 'GU', 'PR', 'VI'],\n",
       "      dtype=object)"
      ]
     },
     "execution_count": 58,
     "metadata": {},
     "output_type": "execute_result"
    }
   ],
   "source": [
    "bls_data['PRIM_STATE'].unique()"
   ]
  },
  {
   "cell_type": "code",
   "execution_count": 59,
   "metadata": {},
   "outputs": [],
   "source": [
    "#Drop unnecessary columns\n",
    "bls_data = bls_data[['AREA_TITLE', 'PRIM_STATE', 'OCC_CODE', 'OCC_TITLE','TOT_EMP' ,'H_MEDIAN']]"
   ]
  },
  {
   "cell_type": "code",
   "execution_count": 60,
   "metadata": {},
   "outputs": [],
   "source": [
    "us_states = {\n",
    "    'Alabama': 'AL', 'Alaska': 'AK', 'Arizona': 'AZ', 'Arkansas': 'AR', 'California': 'CA',\n",
    "    'Colorado': 'CO', 'Connecticut': 'CT', 'Delaware': 'DE', 'District of Columbia': 'DC', 'Florida': 'FL', 'Georgia': 'GA', 'Guam': 'GR',\n",
    "    'Hawaii': 'HI', 'Idaho': 'ID', 'Illinois': 'IL', 'Indiana': 'IN', 'Iowa': 'IA',\n",
    "    'Kansas': 'KS', 'Kentucky': 'KY', 'Louisiana': 'LA', 'Maine': 'ME', 'Maryland': 'MD',\n",
    "    'Massachusetts': 'MA', 'Michigan': 'MI', 'Minnesota': 'MN', 'Mississippi': 'MS',\n",
    "    'Missouri': 'MO', 'Montana': 'MT', 'Nebraska': 'NE', 'Nevada': 'NV', 'New Hampshire': 'NH',\n",
    "    'New Jersey': 'NJ', 'New Mexico': 'NM', 'New York': 'NY', 'North Carolina': 'NC',\n",
    "    'North Dakota': 'ND', 'Northern Mariana Islands': 'NMI', 'Ohio': 'OH', 'Oklahoma': 'OK', 'Oregon': 'OR', 'Pennsylvania': 'PA', 'Puerto Rico': 'PR',\n",
    "    'Rhode Island': 'RI', 'South Carolina': 'SC', 'South Dakota': 'SD', 'Tennessee': 'TN',\n",
    "    'Texas': 'TX', 'Utah': 'UT', 'Vermont': 'VT', 'Virginia': 'VA', 'Virgin Islands': 'VI', 'Washington': 'WA',\n",
    "    'West Virginia': 'WV', 'Wisconsin': 'WI', 'Wyoming': 'WY'\n",
    "}"
   ]
  },
  {
   "cell_type": "code",
   "execution_count": 61,
   "metadata": {},
   "outputs": [],
   "source": [
    "def standardize_state(state_column):\n",
    "    return state_column.map(lambda x: us_states[x] if x in us_states else x)"
   ]
  },
  {
   "cell_type": "code",
   "execution_count": 62,
   "metadata": {},
   "outputs": [],
   "source": [
    "col_data['State'] = standardize_state(col_data['State'])\n",
    "min_wage_data['State'] = standardize_state(min_wage_data['State'])"
   ]
  },
  {
   "cell_type": "code",
   "execution_count": 63,
   "metadata": {},
   "outputs": [
    {
     "name": "stdout",
     "output_type": "stream",
     "text": [
      "['WV' 'KS' 'MS' 'OK' 'AL' 'MO' 'AR' 'TN' 'IA' 'IN' 'GA' 'ND' 'MI' 'SD'\n",
      " 'TX' 'NE' 'KY' 'NM' 'LA' 'MT' 'OH' 'PA' 'SC' 'MN' 'WY' 'IL' 'NC' 'MD'\n",
      " 'WI' 'NV' 'DE' 'VA' 'ID' 'FL' 'PR' 'CO' 'UT' 'OR' 'NH' 'CT' 'RI' 'AZ'\n",
      " 'ME' 'WA' 'VT' 'NJ' 'NY' 'AK' 'DC' 'CA' 'MA' 'HI']\n",
      "['AL' 'AK' 'AZ' 'AR' 'CA' 'CO' 'CT' 'DE' 'DC' 'FL' 'GA' 'GR' 'HI' 'ID'\n",
      " 'IL' 'IN' 'IA' 'KS' 'KY' 'LA' 'ME' 'MD' 'MA' 'MI' 'MN' 'MS' 'MO' 'MT'\n",
      " 'NE' 'NV' 'NH' 'NJ' 'NM' 'NY' 'NC' 'ND' 'NMI' 'OH' 'OK' 'OR' 'PA' 'PR'\n",
      " 'RI' 'SC' 'SD' 'TN' 'TX' 'UT' 'VT' 'VI' 'VA' 'WA' 'WV' 'WI' 'WY']\n",
      "['AL' 'AK' 'AZ' 'AR' 'CA' 'CO' 'CT' 'DE' 'DC' 'FL' 'GA' 'HI' 'ID' 'IL'\n",
      " 'IN' 'IA' 'KS' 'KY' 'LA' 'ME' 'MD' 'MA' 'MI' 'MN' 'MS' 'MO' 'MT' 'NE'\n",
      " 'NV' 'NH' 'NJ' 'NM' 'NY' 'NC' 'ND' 'OH' 'OK' 'OR' 'PA' 'PR' 'RI' 'SC'\n",
      " 'SD' 'TN' 'TX' 'UT' 'VT' 'VA' 'WA' 'WV' 'WI' 'WY' 'GU']\n",
      "['AL' 'AK' 'AZ' 'AR' 'CA' 'CO' 'CT' 'DE' 'DC' 'FL' 'GA' 'HI' 'ID' 'IL'\n",
      " 'IN' 'IA' 'KS' 'KY' 'LA' 'ME' 'MD' 'MA' 'MI' 'MN' 'MS' 'MO' 'MT' 'NE'\n",
      " 'NV' 'NH' 'NJ' 'NM' 'NY' 'NC' 'ND' 'OH' 'OK' 'OR' 'PA' 'RI' 'SC' 'SD'\n",
      " 'TN' 'TX' 'UT' 'VT' 'VA' 'WA' 'WV' 'WI' 'WY' 'GU' 'PR' 'VI']\n"
     ]
    }
   ],
   "source": [
    "print(col_data['State'].unique())\n",
    "print(min_wage_data['State'].unique())\n",
    "print(cms_provider_info['State'].unique())\n",
    "print(bls_data['PRIM_STATE'].unique())\n"
   ]
  },
  {
   "cell_type": "code",
   "execution_count": 64,
   "metadata": {},
   "outputs": [
    {
     "name": "stdout",
     "output_type": "stream",
     "text": [
      "Cost of Living Data Columns:\n",
      "Index(['Rank', 'State', 'Index', 'Grocery', 'Housing', 'Utilities',\n",
      "       'Transportation', 'Health ', 'Misc.'],\n",
      "      dtype='object')\n",
      "\n",
      "Minimum Wage Data Columns:\n",
      "Index(['State', 'Minimum Wage', 'Increases Planned'], dtype='object')\n",
      "\n",
      "BLS Data Columns:\n",
      "Index(['AREA_TITLE', 'PRIM_STATE', 'OCC_CODE', 'OCC_TITLE', 'TOT_EMP',\n",
      "       'H_MEDIAN'],\n",
      "      dtype='object')\n",
      "\n",
      "Provider Data Columns:\n",
      "Index(['State', 'Provider Name', 'Overall Rating', 'Staffing Rating',\n",
      "       'QM Rating', 'Latitude', 'Longitude'],\n",
      "      dtype='object')\n"
     ]
    }
   ],
   "source": [
    "# Print column names for each dataset\n",
    "print(\"Cost of Living Data Columns:\")\n",
    "print(col_data.columns)\n",
    "\n",
    "print(\"\\nMinimum Wage Data Columns:\")\n",
    "print(min_wage_data.columns)\n",
    "\n",
    "print(\"\\nBLS Data Columns:\")\n",
    "print(bls_data.columns)\n",
    "\n",
    "print(\"\\nProvider Data Columns:\")\n",
    "print(cms_provider_info.columns)"
   ]
  },
  {
   "cell_type": "code",
   "execution_count": 65,
   "metadata": {},
   "outputs": [],
   "source": [
    "# Function to standardize column headers\n",
    "def clean_column_headers(df):\n",
    "    df.columns = df.columns.str.lower().str.replace(' ', '_').str.replace('-', '_')\n",
    "    return df\n",
    "\n",
    "# Apply the function to each dataset\n",
    "col_data = clean_column_headers(col_data)\n",
    "min_wage_data = clean_column_headers(min_wage_data)\n",
    "bls_data = clean_column_headers(bls_data)\n",
    "provider_data = clean_column_headers(cms_provider_info)"
   ]
  },
  {
   "cell_type": "code",
   "execution_count": 66,
   "metadata": {},
   "outputs": [
    {
     "name": "stdout",
     "output_type": "stream",
     "text": [
      "Updated Cost of Living Data Columns:\n",
      "Index(['rank', 'state', 'index', 'grocery', 'housing', 'utilities',\n",
      "       'transportation', 'health ', 'misc.'],\n",
      "      dtype='object')\n",
      "\n",
      "Updated Minimum Wage Data Columns:\n",
      "Index(['state', 'minimum_wage', 'increases_planned'], dtype='object')\n",
      "\n",
      "Updated BLS Data Columns:\n",
      "Index(['area_title', 'prim_state', 'occ_code', 'occ_title', 'tot_emp',\n",
      "       'h_median'],\n",
      "      dtype='object')\n",
      "\n",
      "Updated Provider Data Columns:\n",
      "Index(['state', 'provider_name', 'overall_rating', 'staffing_rating',\n",
      "       'qm_rating', 'latitude', 'longitude'],\n",
      "      dtype='object')\n"
     ]
    }
   ],
   "source": [
    "# Verify cleaned column headers\n",
    "print(\"Updated Cost of Living Data Columns:\")\n",
    "print(col_data.columns)\n",
    "\n",
    "print(\"\\nUpdated Minimum Wage Data Columns:\")\n",
    "print(min_wage_data.columns)\n",
    "\n",
    "print(\"\\nUpdated BLS Data Columns:\")\n",
    "print(bls_data.columns)\n",
    "\n",
    "print(\"\\nUpdated Provider Data Columns:\")\n",
    "print(provider_data.columns)"
   ]
  },
  {
   "cell_type": "code",
   "execution_count": 67,
   "metadata": {},
   "outputs": [],
   "source": [
    "\n",
    "# Standardize column names and clean up inconsistencies\n",
    "col_data.rename(columns={\n",
    "    'health ': 'health',\n",
    "    'index': 'cost_of_living_index'\n",
    "}, inplace=True)\n",
    "\n",
    "min_wage_data.rename(columns={}, inplace=True)  # No changes for now\n",
    "\n",
    "bls_data.rename(columns={\n",
    "    'prim_state': 'state',\n",
    "    'h_median': 'hourly_median_wage'\n",
    "}, inplace=True)\n",
    "\n",
    "provider_data.rename(columns={}, inplace=True)  # No changes for now"
   ]
  },
  {
   "cell_type": "code",
   "execution_count": 68,
   "metadata": {},
   "outputs": [
    {
     "name": "stdout",
     "output_type": "stream",
     "text": [
      "Updated Cost of Living Data Columns:\n",
      "Index(['rank', 'state', 'cost_of_living_index', 'grocery', 'housing',\n",
      "       'utilities', 'transportation', 'health ', 'misc.'],\n",
      "      dtype='object')\n",
      "\n",
      "Updated Minimum Wage Data Columns:\n",
      "Index(['state', 'minimum_wage', 'increases_planned'], dtype='object')\n",
      "\n",
      "Updated BLS Data Columns:\n",
      "Index(['area_title', 'state', 'occ_code', 'occ_title', 'tot_emp',\n",
      "       'hourly_median_wage'],\n",
      "      dtype='object')\n",
      "\n",
      "Updated Provider Data Columns:\n",
      "Index(['state', 'provider_name', 'overall_rating', 'staffing_rating',\n",
      "       'qm_rating', 'latitude', 'longitude'],\n",
      "      dtype='object')\n"
     ]
    }
   ],
   "source": [
    "print(\"Updated Cost of Living Data Columns:\")\n",
    "print(col_data.columns)\n",
    "\n",
    "print(\"\\nUpdated Minimum Wage Data Columns:\")\n",
    "print(min_wage_data.columns)\n",
    "\n",
    "print(\"\\nUpdated BLS Data Columns:\")\n",
    "print(bls_data.columns)\n",
    "\n",
    "print(\"\\nUpdated Provider Data Columns:\")\n",
    "print(provider_data.columns)"
   ]
  },
  {
   "cell_type": "code",
   "execution_count": 69,
   "metadata": {},
   "outputs": [
    {
     "name": "stdout",
     "output_type": "stream",
     "text": [
      "\n",
      "Cost of Living Dataset Types:\n",
      "rank                     object\n",
      "state                    object\n",
      "cost_of_living_index    float64\n",
      "grocery                 float64\n",
      "housing                 float64\n",
      "utilities               float64\n",
      "transportation          float64\n",
      "health                  float64\n",
      "misc.                   float64\n",
      "dtype: object\n",
      "\n",
      "Minimum Wage Dataset Types:\n",
      "state                 object\n",
      "minimum_wage         float64\n",
      "increases_planned      int64\n",
      "dtype: object\n",
      "\n",
      "BLS Dataset Types:\n",
      "area_title             object\n",
      "state                  object\n",
      "occ_code               object\n",
      "occ_title              object\n",
      "tot_emp                 int64\n",
      "hourly_median_wage    float64\n",
      "dtype: object\n",
      "\n",
      "Provider Data Dataset Types:\n",
      "state               object\n",
      "provider_name       object\n",
      "overall_rating     float64\n",
      "staffing_rating    float64\n",
      "qm_rating          float64\n",
      "latitude           float64\n",
      "longitude          float64\n",
      "dtype: object\n"
     ]
    }
   ],
   "source": [
    "# Check column types for all datasets\n",
    "datasets = {\n",
    "    'Cost of Living': col_data,\n",
    "    'Minimum Wage': min_wage_data,\n",
    "    'BLS': bls_data,\n",
    "    'Provider Data': provider_data\n",
    "}\n",
    "\n",
    "for name, df in datasets.items():\n",
    "    print(f\"\\n{name} Dataset Types:\")\n",
    "    print(df.dtypes)"
   ]
  },
  {
   "cell_type": "code",
   "execution_count": 70,
   "metadata": {},
   "outputs": [],
   "source": [
    "# Save Cost of Living Data\n",
    "col_data.to_csv('../data/cost_of_living_cleaned.csv', index=False)\n",
    "\n",
    "# Save Minimum Wage Data\n",
    "min_wage_data.to_csv('../data/minimum_wage_cleaned.csv', index=False)\n",
    "\n",
    "# Save BLS Data\n",
    "bls_data.to_csv('../data/bls_cleaned.csv', index=False)\n",
    "\n",
    "# Save Provider Data\n",
    "provider_data.to_csv('../data/provider_cleaned.csv', index=False)"
   ]
  },
  {
   "cell_type": "code",
   "execution_count": null,
   "metadata": {},
   "outputs": [],
   "source": []
  }
 ],
 "metadata": {
  "kernelspec": {
   "display_name": "capstone_env",
   "language": "python",
   "name": "python3"
  },
  "language_info": {
   "codemirror_mode": {
    "name": "ipython",
    "version": 3
   },
   "file_extension": ".py",
   "mimetype": "text/x-python",
   "name": "python",
   "nbconvert_exporter": "python",
   "pygments_lexer": "ipython3",
   "version": "3.12.7"
  }
 },
 "nbformat": 4,
 "nbformat_minor": 2
}
