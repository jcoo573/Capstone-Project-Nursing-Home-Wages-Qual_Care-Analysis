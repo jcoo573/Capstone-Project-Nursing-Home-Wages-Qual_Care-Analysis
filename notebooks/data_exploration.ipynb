{
 "cells": [
  {
   "cell_type": "code",
   "execution_count": 2,
   "metadata": {},
   "outputs": [],
   "source": [
    "import pandas as pd\n",
    "import os\n",
    "\n",
    "# Load CMS data (example: NH_ProviderInfo.csv)\n",
    "cms_provider_info = pd.read_csv('data/NH_ProviderInfo_Nov2024.csv')\n",
    "\n",
    "# Load cost of living data\n",
    "col_data = pd.read_csv('data/cost_of_living_data.csv')\n",
    "\n",
    "# Load minimum wage data\n",
    "min_wage_data = pd.read_csv('data/min_wage.csv')\n",
    "\n",
    "# Load BLS earnings data\n",
    "bls_data = pd.read_csv('data/bls_earnings_2023.csv')"
   ]
  },
  {
   "cell_type": "code",
   "execution_count": 3,
   "metadata": {},
   "outputs": [
    {
     "name": "stdout",
     "output_type": "stream",
     "text": [
      "  CMS Certification Number (CCN)                                Provider Name  \\\n",
      "0                         015009                     BURNS NURSING HOME, INC.   \n",
      "1                         015010               COOSA VALLEY HEALTHCARE CENTER   \n",
      "2                         015012                   HIGHLANDS HEALTH AND REHAB   \n",
      "3                         015014  EASTVIEW REHABILITATION & HEALTHCARE CENTER   \n",
      "4                         015015                PLANTATION MANOR NURSING HOME   \n",
      "\n",
      "              Provider Address     City/Town State  ZIP Code  \\\n",
      "0         701 MONROE STREET NW  RUSSELLVILLE    AL     35653   \n",
      "1       260 WEST WALNUT STREET     SYLACAUGA    AL     35150   \n",
      "2          380 WOODS COVE ROAD    SCOTTSBORO    AL     35768   \n",
      "3     7755 FOURTH AVENUE SOUTH    BIRMINGHAM    AL     35206   \n",
      "4  6450 OLD TUSCALOOSA HIGHWAY      MC CALLA    AL     35111   \n",
      "\n",
      "   Telephone Number  Provider SSA County Code County/Parish  \\\n",
      "0        2563324110                       290      Franklin   \n",
      "1        2562495604                       600     Talladega   \n",
      "2        2562183708                       350       Jackson   \n",
      "3        2058330146                       360     Jefferson   \n",
      "4        2054776161                       360     Jefferson   \n",
      "\n",
      "             Ownership Type  ...  \\\n",
      "0  For profit - Corporation  ...   \n",
      "1  For profit - Corporation  ...   \n",
      "2       Government - County  ...   \n",
      "3   For profit - Individual  ...   \n",
      "4   For profit - Individual  ...   \n",
      "\n",
      "   Number of Citations from Infection Control Inspections  Number of Fines  \\\n",
      "0                                                NaN                     1   \n",
      "1                                                0.0                     0   \n",
      "2                                                NaN                     0   \n",
      "3                                                0.0                     0   \n",
      "4                                                NaN                     0   \n",
      "\n",
      "   Total Amount of Fines in Dollars Number of Payment Denials  \\\n",
      "0                           23989.0                         0   \n",
      "1                               0.0                         0   \n",
      "2                               0.0                         0   \n",
      "3                               0.0                         0   \n",
      "4                               0.0                         0   \n",
      "\n",
      "  Total Number of Penalties                                       Location  \\\n",
      "0                         1     701 MONROE STREET NW,RUSSELLVILLE,AL,35653   \n",
      "1                         0      260 WEST WALNUT STREET,SYLACAUGA,AL,35150   \n",
      "2                         0        380 WOODS COVE ROAD,SCOTTSBORO,AL,35768   \n",
      "3                         0   7755 FOURTH AVENUE SOUTH,BIRMINGHAM,AL,35206   \n",
      "4                         0  6450 OLD TUSCALOOSA HIGHWAY,MC CALLA,AL,35111   \n",
      "\n",
      "  Latitude Longitude  Geocoding Footnote Processing Date  \n",
      "0  34.5149   -87.736                 NaN      2024-11-01  \n",
      "1  33.1637   -86.254                 NaN      2024-11-01  \n",
      "2  34.6611   -86.047                 NaN      2024-11-01  \n",
      "3  33.5595   -86.722                 NaN      2024-11-01  \n",
      "4  33.3221   -87.034                 NaN      2024-11-01  \n",
      "\n",
      "[5 rows x 103 columns]\n",
      "<class 'pandas.core.frame.DataFrame'>\n",
      "RangeIndex: 14807 entries, 0 to 14806\n",
      "Columns: 103 entries, CMS Certification Number (CCN) to Processing Date\n",
      "dtypes: float64(70), int64(9), object(24)\n",
      "memory usage: 11.6+ MB\n",
      "None\n"
     ]
    }
   ],
   "source": [
    "#Look at CMS Data: \n",
    "print(cms_provider_info.head())\n",
    "print(cms_provider_info.info())"
   ]
  },
  {
   "cell_type": "code",
   "execution_count": 4,
   "metadata": {},
   "outputs": [],
   "source": [
    "#Drop unnecessary columns\n",
    "cms_provider_info = cms_provider_info[['State', 'Provider Name', 'Overall Rating', 'Staffing Rating', 'QM Rating']]"
   ]
  },
  {
   "cell_type": "code",
   "execution_count": 7,
   "metadata": {},
   "outputs": [
    {
     "name": "stdout",
     "output_type": "stream",
     "text": [
      "  State                                Provider Name  Overall Rating  \\\n",
      "0    AL                     BURNS NURSING HOME, INC.             2.0   \n",
      "1    AL               COOSA VALLEY HEALTHCARE CENTER             4.0   \n",
      "2    AL                   HIGHLANDS HEALTH AND REHAB             4.0   \n",
      "3    AL  EASTVIEW REHABILITATION & HEALTHCARE CENTER             2.0   \n",
      "4    AL                PLANTATION MANOR NURSING HOME             2.0   \n",
      "\n",
      "   Staffing Rating  QM Rating  \n",
      "0              4.0        4.0  \n",
      "1              3.0        3.0  \n",
      "2              3.0        2.0  \n",
      "3              1.0        2.0  \n",
      "4              4.0        2.0  \n",
      "(14807, 5)\n"
     ]
    }
   ],
   "source": [
    "print(cms_provider_info.head())\n",
    "print(cms_provider_info.shape)"
   ]
  },
  {
   "cell_type": "code",
   "execution_count": 9,
   "metadata": {},
   "outputs": [
    {
     "name": "stdout",
     "output_type": "stream",
     "text": [
      "  ID            Rank  State  Index  Grocery  Housing  Utilities  \\\n",
      "0  1  West Virginia    84.8   98.4     61.3     96.4       93.1   \n",
      "1  2         Kansas    86.7   94.6     70.7    100.8       92.2   \n",
      "2  3    Mississippi    87.5   96.8     72.2     89.4       90.1   \n",
      "3  4       Oklahoma    87.9   96.5     74.7     96.5       90.6   \n",
      "4  5        Alabama    88.8   97.8     71.4    100.5       90.3   \n",
      "\n",
      "   Transportation  Health   Misc.  \n",
      "0            96.8     91.2    NaN  \n",
      "1            92.6     90.3    NaN  \n",
      "2            95.6     93.8    NaN  \n",
      "3            99.3     90.5    NaN  \n",
      "4            90.1     95.8    NaN  \n",
      "<class 'pandas.core.frame.DataFrame'>\n",
      "RangeIndex: 53 entries, 0 to 52\n",
      "Data columns (total 10 columns):\n",
      " #   Column          Non-Null Count  Dtype  \n",
      "---  ------          --------------  -----  \n",
      " 0   ID              53 non-null     object \n",
      " 1   Rank            53 non-null     object \n",
      " 2   State           53 non-null     float64\n",
      " 3   Index           53 non-null     float64\n",
      " 4   Grocery         53 non-null     float64\n",
      " 5   Housing         53 non-null     float64\n",
      " 6   Utilities       53 non-null     float64\n",
      " 7   Transportation  53 non-null     float64\n",
      " 8   Health          53 non-null     float64\n",
      " 9   Misc.           0 non-null      float64\n",
      "dtypes: float64(8), object(2)\n",
      "memory usage: 4.3+ KB\n",
      "None\n"
     ]
    }
   ],
   "source": [
    "print(col_data.head())\n",
    "print(col_data.info())"
   ]
  },
  {
   "cell_type": "code",
   "execution_count": 10,
   "metadata": {},
   "outputs": [
    {
     "name": "stdout",
     "output_type": "stream",
     "text": [
      "        State Minimum Wage  Increases Planned\n",
      "0     Alabama       $7.25                   0\n",
      "1      Alaska      $11.91                   0\n",
      "2     Arizona      $14.70                   0\n",
      "3    Arkansas      $11.00                   0\n",
      "4  California      $16.50                   0\n",
      "<class 'pandas.core.frame.DataFrame'>\n",
      "RangeIndex: 55 entries, 0 to 54\n",
      "Data columns (total 3 columns):\n",
      " #   Column             Non-Null Count  Dtype \n",
      "---  ------             --------------  ----- \n",
      " 0   State              55 non-null     object\n",
      " 1   Minimum Wage       55 non-null     object\n",
      " 2   Increases Planned  55 non-null     int64 \n",
      "dtypes: int64(1), object(2)\n",
      "memory usage: 1.4+ KB\n",
      "None\n"
     ]
    }
   ],
   "source": [
    "#Minimum Wage Data\n",
    "print(min_wage_data.head())\n",
    "print(min_wage_data.info())"
   ]
  },
  {
   "cell_type": "code",
   "execution_count": 11,
   "metadata": {},
   "outputs": [
    {
     "name": "stdout",
     "output_type": "stream",
     "text": [
      "   AREA AREA_TITLE  AREA_TYPE PRIM_STATE  NAICS     NAICS_TITLE  \\\n",
      "0     1    Alabama          2         AL      0  Cross-industry   \n",
      "1     1    Alabama          2         AL      0  Cross-industry   \n",
      "2     1    Alabama          2         AL      0  Cross-industry   \n",
      "3     1    Alabama          2         AL      0  Cross-industry   \n",
      "4     1    Alabama          2         AL      0  Cross-industry   \n",
      "\n",
      "          I_GROUP  OWN_CODE OCC_CODE                        OCC_TITLE  ...  \\\n",
      "0  cross-industry      1235  00-0000                  All Occupations  ...   \n",
      "1  cross-industry      1235  11-0000           Management Occupations  ...   \n",
      "2  cross-industry      1235  11-1011                 Chief Executives  ...   \n",
      "3  cross-industry      1235  11-1021  General and Operations Managers  ...   \n",
      "4  cross-industry      1235  11-1031                      Legislators  ...   \n",
      "\n",
      "  H_MEDIAN H_PCT75 H_PCT90 A_PCT10  A_PCT25  A_MEDIAN  A_PCT75  A_PCT90  \\\n",
      "0    19.88   30.09   46.18  22,620   29,580    41,350   62,580   96,050   \n",
      "1    47.95   67.22   95.44  50,710   73,180    99,740  139,810  198,520   \n",
      "2    79.48  102.01       #  65,700  123,960   165,320  212,180        #   \n",
      "3    49.67   78.25  112.54  48,080   72,260   103,320  162,760  234,080   \n",
      "4        *       *       *  18,320   19,670    24,470   45,050   55,070   \n",
      "\n",
      "  ANNUAL HOURLY  \n",
      "0    NaN    NaN  \n",
      "1    NaN    NaN  \n",
      "2    NaN    NaN  \n",
      "3    NaN    NaN  \n",
      "4   True    NaN  \n",
      "\n",
      "[5 rows x 32 columns]\n",
      "<class 'pandas.core.frame.DataFrame'>\n",
      "RangeIndex: 37676 entries, 0 to 37675\n",
      "Data columns (total 32 columns):\n",
      " #   Column        Non-Null Count  Dtype  \n",
      "---  ------        --------------  -----  \n",
      " 0   AREA          37676 non-null  int64  \n",
      " 1   AREA_TITLE    37676 non-null  object \n",
      " 2   AREA_TYPE     37676 non-null  int64  \n",
      " 3   PRIM_STATE    37676 non-null  object \n",
      " 4   NAICS         37676 non-null  int64  \n",
      " 5   NAICS_TITLE   37676 non-null  object \n",
      " 6   I_GROUP       37676 non-null  object \n",
      " 7   OWN_CODE      37676 non-null  int64  \n",
      " 8   OCC_CODE      37676 non-null  object \n",
      " 9   OCC_TITLE     37676 non-null  object \n",
      " 10  O_GROUP       37676 non-null  object \n",
      " 11  TOT_EMP       37676 non-null  object \n",
      " 12  EMP_PRSE      37676 non-null  object \n",
      " 13  JOBS_1000     37676 non-null  object \n",
      " 14  LOC_QUOTIENT  37676 non-null  object \n",
      " 15  PCT_TOTAL     0 non-null      float64\n",
      " 16  PCT_RPT       0 non-null      float64\n",
      " 17  H_MEAN        37676 non-null  object \n",
      " 18  A_MEAN        37676 non-null  object \n",
      " 19  MEAN_PRSE     37676 non-null  object \n",
      " 20  H_PCT10       37676 non-null  object \n",
      " 21  H_PCT25       37676 non-null  object \n",
      " 22  H_MEDIAN      37676 non-null  object \n",
      " 23  H_PCT75       37676 non-null  object \n",
      " 24  H_PCT90       37676 non-null  object \n",
      " 25  A_PCT10       37676 non-null  object \n",
      " 26  A_PCT25       37676 non-null  object \n",
      " 27  A_MEDIAN      37676 non-null  object \n",
      " 28  A_PCT75       37676 non-null  object \n",
      " 29  A_PCT90       37676 non-null  object \n",
      " 30  ANNUAL        2642 non-null   object \n",
      " 31  HOURLY        159 non-null    object \n",
      "dtypes: float64(2), int64(4), object(26)\n",
      "memory usage: 9.2+ MB\n",
      "None\n"
     ]
    }
   ],
   "source": [
    "#BLS Data\n",
    "print(bls_data.head())\n",
    "print(bls_data.info())"
   ]
  },
  {
   "cell_type": "code",
   "execution_count": null,
   "metadata": {},
   "outputs": [],
   "source": []
  }
 ],
 "metadata": {
  "kernelspec": {
   "display_name": "capstone_env",
   "language": "python",
   "name": "python3"
  },
  "language_info": {
   "codemirror_mode": {
    "name": "ipython",
    "version": 3
   },
   "file_extension": ".py",
   "mimetype": "text/x-python",
   "name": "python",
   "nbconvert_exporter": "python",
   "pygments_lexer": "ipython3",
   "version": "3.12.7"
  }
 },
 "nbformat": 4,
 "nbformat_minor": 2
}
